{
 "cells": [
  {
   "cell_type": "code",
   "execution_count": 2,
   "id": "9685eac3",
   "metadata": {},
   "outputs": [],
   "source": [
    "import numpy as np\n",
    "import cv2\n"
   ]
  },
  {
   "cell_type": "code",
   "execution_count": 3,
   "id": "b7559cf0",
   "metadata": {},
   "outputs": [],
   "source": [
    "def replace_matrix_values(matrix, old_value, new_value):\n",
    "    for i in range(len(matrix)):\n",
    "        for j in range(len(matrix[i])):\n",
    "              if matrix[i][j] == old_value:\n",
    "                    matrix[i][j] = new_value\n",
    "    return matrix\n",
    "\n",
    "def lsinpaintnew(u0, D):\n",
    "    I = u0\n",
    "#     I = replace_matrix_values(I,0,np.NaN)\n",
    "#     for i in range(len(p[0])):\n",
    "#         I[[p[0][i]][p[1][i]]] = np.NaN\n",
    "    [he, wi] = I.shape\n",
    "\n",
    "    x1 = []\n",
    "    for i in range(he):\n",
    "        y = I[i, :]\n",
    "        if np.isnan(y).sum() > 0:\n",
    "            N = len(y)\n",
    "            n = np.arange(N)\n",
    "            e = np.ones(N)\n",
    "            D = np.diag(e, 0) - np.diag(2 * e[1:], 1) - np.diag(e[1:], 2)\n",
    "            k = np.isfinite(y)\n",
    "            S = np.eye(N)\n",
    "            S = S[~k]\n",
    "            Sc = np.eye(N)\n",
    "            Sc = Sc[k]\n",
    "            L = sum(~k)\n",
    "            v = -(Sc * (D.T * D) * Sc) / (Sc * D.T * D * S.T * y[k])\n",
    "            x = np.zeros(N)\n",
    "            x[k] = y[k]\n",
    "            x[~k] = v\n",
    "        else:\n",
    "            x = y\n",
    "        x1.append(x)\n",
    "    x1 = np.array(x1)\n",
    "\n",
    "    x2 = []\n",
    "    for i in range(wi):\n",
    "        y = I[:, i]\n",
    "        if np.isnan(y).sum() > 0:\n",
    "            N = len(y)\n",
    "            n = np.arange(N)\n",
    "            e = np.ones(N)\n",
    "            D = np.diag(e, 0) - np.diag(2 * e[1:], 1) - np.diag(e[1:], 2)\n",
    "            k = np.isfinite(y)\n",
    "            S = np.eye(N)\n",
    "            S = S[~k]\n",
    "            Sc = np.eye(N)\n",
    "            Sc = Sc[k]\n",
    "            L = sum(~k)\n",
    "            v = -(Sc * (D.T * D) * Sc) / (Sc * D.T * D * S.T * y[k])\n",
    "            x = np.zeros(N)\n",
    "            x[k] = y[k]\n",
    "            x[~k] = v\n",
    "        else:\n",
    "            x = y\n",
    "        x2.append(x)\n",
    "    x2 = np.array(x2).T\n",
    "\n",
    "    x = (x1 + x2) / 2\n",
    "    return x\n"
   ]
  },
  {
   "cell_type": "code",
   "execution_count": 4,
   "id": "ab4bf269",
   "metadata": {},
   "outputs": [
    {
     "data": {
      "text/plain": [
       "-1"
      ]
     },
     "execution_count": 4,
     "metadata": {},
     "output_type": "execute_result"
    }
   ],
   "source": [
    "u0 = cv2.imread('inpaint_img.tif', 0)\n",
    "D = cv2.imread('img_mask.tif', 0)\n",
    "\n",
    "x = lsinpaintnew(u0, D)\n",
    "\n",
    "cv2.imshow('Original Image', np.uint8(u0))\n",
    "cv2.imshow('Mask Image', D)\n",
    "cv2.imshow('Inpainted Image', np.uint8(x))\n",
    "cv2.waitKey(0)"
   ]
  },
  {
   "cell_type": "code",
   "execution_count": null,
   "id": "66d87945",
   "metadata": {},
   "outputs": [],
   "source": []
  }
 ],
 "metadata": {
  "kernelspec": {
   "display_name": "Python 3 (ipykernel)",
   "language": "python",
   "name": "python3"
  },
  "language_info": {
   "codemirror_mode": {
    "name": "ipython",
    "version": 3
   },
   "file_extension": ".py",
   "mimetype": "text/x-python",
   "name": "python",
   "nbconvert_exporter": "python",
   "pygments_lexer": "ipython3",
   "version": "3.9.13"
  }
 },
 "nbformat": 4,
 "nbformat_minor": 5
}
